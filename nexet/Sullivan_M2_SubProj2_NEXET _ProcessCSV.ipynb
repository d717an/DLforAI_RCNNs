{
 "cells": [
  {
   "cell_type": "markdown",
   "metadata": {},
   "source": [
    "# Deep Learning for Autonomous Vehicles\n",
    "**Module 2: Sub-project 2: NEXET Vehicle Prediction - CSV Processing**\n",
    "* Student: Dan Sullivan, Spr 2019"
   ]
  },
  {
   "cell_type": "markdown",
   "metadata": {},
   "source": [
    "## Define Libraries and Functions"
   ]
  },
  {
   "cell_type": "code",
   "execution_count": 166,
   "metadata": {},
   "outputs": [],
   "source": [
    "import numpy as np  \n",
    "import matplotlib.pyplot as plt  \n",
    "import pandas as pd\n",
    "import shutil\n",
    "import os\n",
    "import requests\n",
    "import base64"
   ]
  },
  {
   "cell_type": "markdown",
   "metadata": {},
   "source": [
    "## Define Paths for Annotation CSVs and YAML Files\n",
    "Information will be used to create the CSVs"
   ]
  },
  {
   "cell_type": "code",
   "execution_count": 167,
   "metadata": {},
   "outputs": [],
   "source": [
    "gdrive_csv = 'E:/OneDrive/Documents/School/WPI/RBE595_196E - AI for Autonomous Vehicles/Module 2/Final Project Module 2/nexet/uploaded.csv'\n",
    "train_boxes_csv = 'E:/OneDrive/Documents/School/WPI/RBE595_196E - AI for Autonomous Vehicles/Module 2/Final Project Module 2/nexet/train_boxes.csv'"
   ]
  },
  {
   "cell_type": "markdown",
   "metadata": {},
   "source": [
    "## Build Dataframe for Uploaded Images\n",
    "* Only uploading a fraction of the thousands of images to Gdrive\n",
    "* Processing the train_boxes csv to only contain information for the uploaded information\n",
    "* Used the Chrome App, \"File Cabinet\" to generate a file list of the images uploaded to the drive"
   ]
  },
  {
   "cell_type": "code",
   "execution_count": 168,
   "metadata": {},
   "outputs": [
    {
     "data": {
      "text/html": [
       "<div>\n",
       "<style scoped>\n",
       "    .dataframe tbody tr th:only-of-type {\n",
       "        vertical-align: middle;\n",
       "    }\n",
       "\n",
       "    .dataframe tbody tr th {\n",
       "        vertical-align: top;\n",
       "    }\n",
       "\n",
       "    .dataframe thead th {\n",
       "        text-align: right;\n",
       "    }\n",
       "</style>\n",
       "<table border=\"1\" class=\"dataframe\">\n",
       "  <thead>\n",
       "    <tr style=\"text-align: right;\">\n",
       "      <th></th>\n",
       "      <th>Title</th>\n",
       "    </tr>\n",
       "  </thead>\n",
       "  <tbody>\n",
       "    <tr>\n",
       "      <th>0</th>\n",
       "      <td>000196c0-1985-457f-bcd2-e4df621de5fe.mov-0001.jpg</td>\n",
       "    </tr>\n",
       "    <tr>\n",
       "      <th>1</th>\n",
       "      <td>0012c298-4ec3-4604-a8f5-b828f1775ce6.mov-0001.jpg</td>\n",
       "    </tr>\n",
       "    <tr>\n",
       "      <th>2</th>\n",
       "      <td>00146c1b-7af9-4864-9066-9b32913a1c3f.mov-0001.jpg</td>\n",
       "    </tr>\n",
       "    <tr>\n",
       "      <th>3</th>\n",
       "      <td>001b630b-1e07-447a-9706-6c0f7aa3c811.mov-0001.jpg</td>\n",
       "    </tr>\n",
       "    <tr>\n",
       "      <th>4</th>\n",
       "      <td>0051904c-fc97-43ff-b9c9-14c009c1f6fa.mov-0001.jpg</td>\n",
       "    </tr>\n",
       "  </tbody>\n",
       "</table>\n",
       "</div>"
      ],
      "text/plain": [
       "                                               Title\n",
       "0  000196c0-1985-457f-bcd2-e4df621de5fe.mov-0001.jpg\n",
       "1  0012c298-4ec3-4604-a8f5-b828f1775ce6.mov-0001.jpg\n",
       "2  00146c1b-7af9-4864-9066-9b32913a1c3f.mov-0001.jpg\n",
       "3  001b630b-1e07-447a-9706-6c0f7aa3c811.mov-0001.jpg\n",
       "4  0051904c-fc97-43ff-b9c9-14c009c1f6fa.mov-0001.jpg"
      ]
     },
     "execution_count": 168,
     "metadata": {},
     "output_type": "execute_result"
    }
   ],
   "source": [
    "df_uploaded = pd.read_csv(gdrive_csv)\n",
    "df_uploaded.head()"
   ]
  },
  {
   "cell_type": "code",
   "execution_count": 169,
   "metadata": {},
   "outputs": [
    {
     "data": {
      "text/html": [
       "<div>\n",
       "<style scoped>\n",
       "    .dataframe tbody tr th:only-of-type {\n",
       "        vertical-align: middle;\n",
       "    }\n",
       "\n",
       "    .dataframe tbody tr th {\n",
       "        vertical-align: top;\n",
       "    }\n",
       "\n",
       "    .dataframe thead th {\n",
       "        text-align: right;\n",
       "    }\n",
       "</style>\n",
       "<table border=\"1\" class=\"dataframe\">\n",
       "  <thead>\n",
       "    <tr style=\"text-align: right;\">\n",
       "      <th></th>\n",
       "      <th>image_filename</th>\n",
       "      <th>x0</th>\n",
       "      <th>y0</th>\n",
       "      <th>x1</th>\n",
       "      <th>y1</th>\n",
       "      <th>label</th>\n",
       "      <th>confidence</th>\n",
       "    </tr>\n",
       "  </thead>\n",
       "  <tbody>\n",
       "    <tr>\n",
       "      <th>0</th>\n",
       "      <td>frame_817c47b8-22c4-438a-8dc6-0e3f67f299ee_000...</td>\n",
       "      <td>601.600000</td>\n",
       "      <td>270.355731</td>\n",
       "      <td>726.755556</td>\n",
       "      <td>421.185771</td>\n",
       "      <td>van</td>\n",
       "      <td>1.0</td>\n",
       "    </tr>\n",
       "    <tr>\n",
       "      <th>1</th>\n",
       "      <td>frame_817c47b8-22c4-438a-8dc6-0e3f67f299ee_000...</td>\n",
       "      <td>497.777778</td>\n",
       "      <td>308.774704</td>\n",
       "      <td>534.755556</td>\n",
       "      <td>338.656126</td>\n",
       "      <td>car</td>\n",
       "      <td>1.0</td>\n",
       "    </tr>\n",
       "    <tr>\n",
       "      <th>2</th>\n",
       "      <td>frame_817c47b8-22c4-438a-8dc6-0e3f67f299ee_000...</td>\n",
       "      <td>449.422222</td>\n",
       "      <td>310.197628</td>\n",
       "      <td>509.155556</td>\n",
       "      <td>358.577075</td>\n",
       "      <td>car</td>\n",
       "      <td>1.0</td>\n",
       "    </tr>\n",
       "    <tr>\n",
       "      <th>3</th>\n",
       "      <td>frame_a9110bf2-5252-4ec6-83c6-33b65d0fc04d_000...</td>\n",
       "      <td>711.111111</td>\n",
       "      <td>304.505929</td>\n",
       "      <td>786.488889</td>\n",
       "      <td>368.537549</td>\n",
       "      <td>car</td>\n",
       "      <td>1.0</td>\n",
       "    </tr>\n",
       "    <tr>\n",
       "      <th>4</th>\n",
       "      <td>frame_a9110bf2-5252-4ec6-83c6-33b65d0fc04d_000...</td>\n",
       "      <td>584.533333</td>\n",
       "      <td>307.351779</td>\n",
       "      <td>647.111111</td>\n",
       "      <td>358.577075</td>\n",
       "      <td>car</td>\n",
       "      <td>1.0</td>\n",
       "    </tr>\n",
       "  </tbody>\n",
       "</table>\n",
       "</div>"
      ],
      "text/plain": [
       "                                      image_filename          x0          y0  \\\n",
       "0  frame_817c47b8-22c4-438a-8dc6-0e3f67f299ee_000...  601.600000  270.355731   \n",
       "1  frame_817c47b8-22c4-438a-8dc6-0e3f67f299ee_000...  497.777778  308.774704   \n",
       "2  frame_817c47b8-22c4-438a-8dc6-0e3f67f299ee_000...  449.422222  310.197628   \n",
       "3  frame_a9110bf2-5252-4ec6-83c6-33b65d0fc04d_000...  711.111111  304.505929   \n",
       "4  frame_a9110bf2-5252-4ec6-83c6-33b65d0fc04d_000...  584.533333  307.351779   \n",
       "\n",
       "           x1          y1 label  confidence  \n",
       "0  726.755556  421.185771   van         1.0  \n",
       "1  534.755556  338.656126   car         1.0  \n",
       "2  509.155556  358.577075   car         1.0  \n",
       "3  786.488889  368.537549   car         1.0  \n",
       "4  647.111111  358.577075   car         1.0  "
      ]
     },
     "execution_count": 169,
     "metadata": {},
     "output_type": "execute_result"
    }
   ],
   "source": [
    "df_train_orig = pd.read_csv(train_boxes_csv)\n",
    "df_train_orig.head()\n",
    "\n"
   ]
  },
  {
   "cell_type": "markdown",
   "metadata": {},
   "source": [
    "## Build New DF For Colab Processing"
   ]
  },
  {
   "cell_type": "code",
   "execution_count": 170,
   "metadata": {},
   "outputs": [
    {
     "name": "stdout",
     "output_type": "stream",
     "text": [
      "df_uploaded:\n",
      "                                      image_filename\n",
      "0  000196c0-1985-457f-bcd2-e4df621de5fe.mov-0001.jpg\n",
      "1  0012c298-4ec3-4604-a8f5-b828f1775ce6.mov-0001.jpg\n",
      "2  00146c1b-7af9-4864-9066-9b32913a1c3f.mov-0001.jpg\n",
      "3  001b630b-1e07-447a-9706-6c0f7aa3c811.mov-0001.jpg\n",
      "4  0051904c-fc97-43ff-b9c9-14c009c1f6fa.mov-0001.jpg \n",
      "\n",
      "df_train_orig:\n",
      "                                      image_filename          x0          y0  \\\n",
      "0  0012c298-4ec3-4604-a8f5-b828f1775ce6.mov-0001.jpg  603.022222  288.853755   \n",
      "1  0012c298-4ec3-4604-a8f5-b828f1775ce6.mov-0001.jpg  496.355556  330.118577   \n",
      "2  0012c298-4ec3-4604-a8f5-b828f1775ce6.mov-0001.jpg  321.422222  305.928854   \n",
      "3  0012c298-4ec3-4604-a8f5-b828f1775ce6.mov-0001.jpg    0.000000  283.162055   \n",
      "4  0012c298-4ec3-4604-a8f5-b828f1775ce6.mov-0001.jpg  614.400000  298.814229   \n",
      "\n",
      "           x1          y1         label  confidence  \n",
      "0  649.955556  344.347826         truck         1.0  \n",
      "1  551.822222  360.000000  pickup_truck         1.0  \n",
      "2  452.266667  388.458498  pickup_truck         1.0  \n",
      "3   83.911111  378.498024           car         1.0  \n",
      "4  830.577778  480.948617           car         1.0   \n",
      "\n",
      "df_train_colab:\n",
      "                                      image_filename          x0          x1  \\\n",
      "0  0012c298-4ec3-4604-a8f5-b828f1775ce6.mov-0001.jpg  603.022222  649.955556   \n",
      "1  0012c298-4ec3-4604-a8f5-b828f1775ce6.mov-0001.jpg  496.355556  551.822222   \n",
      "2  0012c298-4ec3-4604-a8f5-b828f1775ce6.mov-0001.jpg  321.422222  452.266667   \n",
      "3  0012c298-4ec3-4604-a8f5-b828f1775ce6.mov-0001.jpg    0.000000   83.911111   \n",
      "4  0012c298-4ec3-4604-a8f5-b828f1775ce6.mov-0001.jpg  614.400000  830.577778   \n",
      "\n",
      "           y0          y1         label  \n",
      "0  288.853755  344.347826         truck  \n",
      "1  330.118577  360.000000  pickup_truck  \n",
      "2  305.928854  388.458498  pickup_truck  \n",
      "3  283.162055  378.498024           car  \n",
      "4  298.814229  480.948617           car   \n",
      "\n"
     ]
    }
   ],
   "source": [
    "# Sort both dataframes by the image name for faster processing\n",
    "df_uploaded.sort_values(by=['Title'],inplace=True)\n",
    "df_uploaded = df_uploaded.reset_index(drop=True)\n",
    "df_uploaded.rename(index=str,columns={'Title':'image_filename'},inplace=True)\n",
    "print(\"df_uploaded:\")\n",
    "print(df_uploaded[0:5],\"\\n\")\n",
    "\n",
    "df_train_orig.sort_values(by=['image_filename'],inplace=True)\n",
    "df_train_orig = df_train_orig.reset_index(drop=True)\n",
    "\n",
    "print(\"df_train_orig:\")\n",
    "print(df_train_orig[0:5],\"\\n\")\n",
    "\n",
    "# Initialize new dataframe for Colab Processing\n",
    "df_train_colab = pd.DataFrame\n",
    "df_train_colab = pd.merge(df_uploaded,\n",
    "                          df_train_orig[['image_filename','x0','x1','y0','y1','label']],\n",
    "                          on='image_filename')\n",
    "\n",
    "print(\"df_train_colab:\")\n",
    "print(df_train_colab[0:5],\"\\n\")\n"
   ]
  },
  {
   "cell_type": "code",
   "execution_count": 171,
   "metadata": {},
   "outputs": [
    {
     "name": "stdout",
     "output_type": "stream",
     "text": [
      "3819\n",
      "134361\n",
      "9868\n"
     ]
    }
   ],
   "source": [
    "print(len(df_uploaded['image_filename']))\n",
    "print(len(df_train_orig['image_filename']))\n",
    "print(len(df_train_colab['image_filename']))"
   ]
  },
  {
   "cell_type": "code",
   "execution_count": 172,
   "metadata": {},
   "outputs": [],
   "source": [
    "out_csv = 'E:/OneDrive/Documents/School/WPI/RBE595_196E - AI for Autonomous Vehicles/Module 2/Final Project Module 2/nexet/output.csv'\n",
    "df_train_colab.sort_values(by=['image_filename'],inplace=True)\n",
    "df_train_colab = df_train_colab.reset_index(drop=True)\n",
    "\n",
    "colab_train_img_base_dir = '/content/gdrive/My Drive/AI/NEXET/nexet_2017_train/images/'  \n",
    "\n",
    "# Add Gdrive path to each filename string\n",
    "df_train_colab['image_filename'] = colab_train_img_base_dir + df_train_colab['image_filename'].astype(str)\n",
    "\n",
    "# Round the x/y min, max values to integers (pixels)\n",
    "df_train_colab = df_train_colab.round({'x0': 0, 'x1': 1, 'y0': 0, 'y1': 0})\n",
    "df_train_colab['x0'] = df_train_colab['x0'].astype(int)\n",
    "df_train_colab['x1'] = df_train_colab['x1'].astype(int)\n",
    "df_train_colab['y0'] = df_train_colab['y0'].astype(int)\n",
    "df_train_colab['y1'] = df_train_colab['y1'].astype(int)\n",
    "\n",
    "\n",
    "df_train_colab.to_csv(out_csv, index=False, header=False)"
   ]
  }
 ],
 "metadata": {
  "kernelspec": {
   "display_name": "Python 3",
   "language": "python",
   "name": "python3"
  },
  "language_info": {
   "codemirror_mode": {
    "name": "ipython",
    "version": 3
   },
   "file_extension": ".py",
   "mimetype": "text/x-python",
   "name": "python",
   "nbconvert_exporter": "python",
   "pygments_lexer": "ipython3",
   "version": "3.6.8"
  }
 },
 "nbformat": 4,
 "nbformat_minor": 2
}
